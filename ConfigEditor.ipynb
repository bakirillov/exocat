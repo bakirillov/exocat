{
 "cells": [
  {
   "cell_type": "code",
   "execution_count": 4,
   "metadata": {},
   "outputs": [],
   "source": [
    "import json"
   ]
  },
  {
   "cell_type": "code",
   "execution_count": 5,
   "metadata": {},
   "outputs": [],
   "source": [
    "config = {\n",
    "    \"folder\": \"/home/bakirillov/exocortex/\",\n",
    "    \"editor\": \"ghostwriter\",\n",
    "    \"text\": \"vim\",\n",
    "    \"viewer\": \"cat\",\n",
    "    \"images\": \"eog\",\n",
    "    \"videos\": \"mplayer\",\n",
    "    \"audios\": \"mplayer\",\n",
    "    \"docs\": \"mupdf\",\n",
    "    \"word\": \"lowriter\"\n",
    "}"
   ]
  },
  {
   "cell_type": "code",
   "execution_count": 6,
   "metadata": {},
   "outputs": [],
   "source": [
    "with open(\"config.json\", \"w\") as oh:\n",
    "    oh.write(json.dumps(config))"
   ]
  }
 ],
 "metadata": {
  "kernelspec": {
   "display_name": "Python 3",
   "language": "python",
   "name": "python3"
  },
  "language_info": {
   "codemirror_mode": {
    "name": "ipython",
    "version": 3
   },
   "file_extension": ".py",
   "mimetype": "text/x-python",
   "name": "python",
   "nbconvert_exporter": "python",
   "pygments_lexer": "ipython3",
   "version": "3.7.5"
  }
 },
 "nbformat": 4,
 "nbformat_minor": 2
}
