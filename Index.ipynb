{
 "cells": [
  {
   "cell_type": "code",
   "execution_count": 4,
   "metadata": {},
   "outputs": [],
   "source": [
    "import re\n",
    "import os\n",
    "import json\n",
    "import time\n",
    "import argparse\n",
    "import os.path as op\n",
    "import networkx as nx\n",
    "from tqdm import tqdm"
   ]
  },
  {
   "cell_type": "code",
   "execution_count": 2,
   "metadata": {},
   "outputs": [],
   "source": [
    "g = nx.MultiDiGraph()"
   ]
  },
  {
   "cell_type": "code",
   "execution_count": 3,
   "metadata": {},
   "outputs": [
    {
     "data": {
      "text/plain": [
       "<bound method MultiDiGraph.add_edge of <networkx.classes.multidigraph.MultiDiGraph object at 0x7f94f7230b90>>"
      ]
     },
     "execution_count": 3,
     "metadata": {},
     "output_type": "execute_result"
    }
   ],
   "source": [
    "g.add_edge()"
   ]
  },
  {
   "cell_type": "code",
   "execution_count": 6,
   "metadata": {},
   "outputs": [],
   "source": [
    "with open(\"/home/bakirillov/exocortex/28052020224804.md\", \"r\") as ih:\n",
    "    u = ih.read()"
   ]
  },
  {
   "cell_type": "code",
   "execution_count": 14,
   "metadata": {},
   "outputs": [],
   "source": [
    "u = CatIndex.examine(u)"
   ]
  },
  {
   "cell_type": "code",
   "execution_count": 17,
   "metadata": {},
   "outputs": [],
   "source": [
    "u[\"explicits\"] = \",\".join(u[\"explicits\"])"
   ]
  },
  {
   "cell_type": "code",
   "execution_count": 19,
   "metadata": {},
   "outputs": [
    {
     "data": {
      "text/plain": [
       "[0]"
      ]
     },
     "execution_count": 19,
     "metadata": {},
     "output_type": "execute_result"
    }
   ],
   "source": [
    "g.add_edges_from(\n",
    "    [(\"3242\",\"12121\",u)]\n",
    ")"
   ]
  },
  {
   "cell_type": "code",
   "execution_count": 29,
   "metadata": {},
   "outputs": [
    {
     "name": "stdout",
     "output_type": "stream",
     "text": [
      "{'explicits': 'сегментация,обучение_без_учителя,segmentation,unsupervised_learning'}\n"
     ]
    }
   ],
   "source": [
    "for a in g.edges.values():\n",
    "    print(a)"
   ]
  },
  {
   "cell_type": "code",
   "execution_count": 11,
   "metadata": {},
   "outputs": [],
   "source": [
    "class CatIndex():\n",
    "    \n",
    "    @classmethod\n",
    "    def empty(C):\n",
    "        g = nx.Graph()\n",
    "        last = \"None\"\n",
    "        return(C(g, last))\n",
    "        \n",
    "    def __init__(self, g, last):\n",
    "        self.g = g\n",
    "        self.last = last\n",
    "    \n",
    "    @staticmethod\n",
    "    def examine(s):\n",
    "        explicits = re.findall(\"\\[\\[\\w+\\]\\]\", s)\n",
    "        explicits = [a.replace(\"[[\", \"\").replace(\"]]\", \"\") for a in explicits]\n",
    "        s = {\n",
    "            \"explicits\": explicits\n",
    "        }\n",
    "        return(s)\n",
    "    \n",
    "    @staticmethod\n",
    "    def make_ebunch(a):\n",
    "        pass\n",
    "    \n",
    "    def index(self, list_of_files):\n",
    "        for a in tqdm(list_of_files):\n",
    "            with open(a, \"r\") as ih:\n",
    "                a_file = ih.read()\n",
    "            a_linkables = CatIndex.examine(a_file)\n",
    "            a_cid = op.split(a)[-1].replace(\".md\", \"\")\n",
    "            for b in list_of_files:\n",
    "                with open(b, \"r\") as ih:\n",
    "                    b_file = ih.read()\n",
    "                b_linkables = CatIndex.examine(b_file)\n",
    "                ebunch = {}\n",
    "                add_edge = False\n",
    "                for c in b_linkables:\n",
    "                    ints = list(\n",
    "                        set(a_linkables[c]).intersection(set(b_linkables[c]))\n",
    "                    )\n",
    "                    if len(ints) > 0:\n",
    "                        add_edge = True\n",
    "                        ebunch[c] = \",\".join(ints)\n",
    "                    else:\n",
    "                        add_edge = False\n",
    "                if add_edge:\n",
    "                    b_cid = op.split(b)[-1].replace(\".md\", \"\")\n",
    "                    self.g.add_edges_from([(a_cid, b_cid, ebunch)])"
   ]
  }
 ],
 "metadata": {
  "kernelspec": {
   "display_name": "Python 3",
   "language": "python",
   "name": "python3"
  },
  "language_info": {
   "codemirror_mode": {
    "name": "ipython",
    "version": 3
   },
   "file_extension": ".py",
   "mimetype": "text/x-python",
   "name": "python",
   "nbconvert_exporter": "python",
   "pygments_lexer": "ipython3",
   "version": "3.7.5"
  }
 },
 "nbformat": 4,
 "nbformat_minor": 2
}
