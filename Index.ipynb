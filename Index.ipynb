{
 "cells": [
  {
   "cell_type": "code",
   "execution_count": 1,
   "metadata": {},
   "outputs": [],
   "source": [
    "import re\n",
    "import os\n",
    "import json\n",
    "import time\n",
    "import argparse\n",
    "import pickle as pkl\n",
    "import os.path as op\n",
    "import networkx as nx\n",
    "from tqdm import tqdm\n",
    "from copy import deepcopy"
   ]
  },
  {
   "cell_type": "code",
   "execution_count": 2,
   "metadata": {},
   "outputs": [],
   "source": [
    "class CatIndex():\n",
    "    \n",
    "    @classmethod\n",
    "    def empty(C):\n",
    "        g = nx.Graph()\n",
    "        last = \"None\"\n",
    "        return(C(g, last))\n",
    "    \n",
    "    @staticmethod\n",
    "    def load(fn):\n",
    "        with open(fn, \"rb\") as ih:\n",
    "            return(pkl.load(ih))\n",
    "        \n",
    "    def __init__(self, g, last):\n",
    "        self.g = g\n",
    "        self.last = last\n",
    "    \n",
    "    @staticmethod\n",
    "    def examine(s):\n",
    "        explicits = re.findall(\"\\[\\[\\w+\\]\\]\", s)\n",
    "        explicits = [a.replace(\"[[\", \"\").replace(\"]]\", \"\") for a in explicits]\n",
    "        s = {\n",
    "            \"explicits\": explicits\n",
    "        }\n",
    "        return(s)\n",
    "    \n",
    "    def save(self, fn):\n",
    "        with open(fn, \"wb\") as oh:\n",
    "            pkl.dump(self, oh)\n",
    "    \n",
    "    def index(self, list_of_files):\n",
    "        lst = sorted(\n",
    "            deepcopy(list_of_files), \n",
    "            key=lambda x: int(op.split(x)[-1].replace(\".md\", \"\"))\n",
    "        )\n",
    "        if self.last != \"None\":\n",
    "            lst = lst[lst.index(self.last):]\n",
    "        for a in tqdm(list_of_files):\n",
    "            with open(a, \"r\") as ih:\n",
    "                a_file = ih.read()\n",
    "            a_linkables = CatIndex.examine(a_file)\n",
    "            a_cid = op.split(a)[-1].replace(\".md\", \"\")\n",
    "            for b in lst:\n",
    "                if a != b:\n",
    "                    with open(b, \"r\") as ih:\n",
    "                        b_file = ih.read()\n",
    "                    b_linkables = CatIndex.examine(b_file)\n",
    "                    ebunch = {}\n",
    "                    add_edge = False\n",
    "                    for c in b_linkables:\n",
    "                        ints = list(\n",
    "                            set(a_linkables[c]).intersection(set(b_linkables[c]))\n",
    "                        )\n",
    "                        if len(ints) > 0:\n",
    "                            add_edge = True\n",
    "                            ebunch[c] = \",\".join(ints)\n",
    "                        else:\n",
    "                            add_edge = False\n",
    "                    if add_edge:\n",
    "                        b_cid = op.split(b)[-1].replace(\".md\", \"\")\n",
    "                        self.g.add_edges_from([(a_cid, b_cid, ebunch)])"
   ]
  },
  {
   "cell_type": "code",
   "execution_count": 3,
   "metadata": {},
   "outputs": [],
   "source": [
    "I = CatIndex.empty()"
   ]
  },
  {
   "cell_type": "code",
   "execution_count": 5,
   "metadata": {},
   "outputs": [],
   "source": [
    "files = [a for a in os.walk(\"/home/bakirillov/exocortex/\")][0][2]\n",
    "files = [op.join(\"/home/bakirillov/exocortex\", a) for a in files]"
   ]
  },
  {
   "cell_type": "code",
   "execution_count": 6,
   "metadata": {},
   "outputs": [
    {
     "name": "stderr",
     "output_type": "stream",
     "text": [
      "100%|██████████| 4/4 [00:00<00:00, 3812.14it/s]\n"
     ]
    }
   ],
   "source": [
    "I.index(files)"
   ]
  },
  {
   "cell_type": "code",
   "execution_count": 4,
   "metadata": {},
   "outputs": [],
   "source": [
    "u = [a for a in I.g.edges]"
   ]
  },
  {
   "cell_type": "code",
   "execution_count": 5,
   "metadata": {},
   "outputs": [
    {
     "data": {
      "text/plain": [
       "[('28052020082348', '28052020224804')]"
      ]
     },
     "execution_count": 5,
     "metadata": {},
     "output_type": "execute_result"
    }
   ],
   "source": [
    "u"
   ]
  },
  {
   "cell_type": "code",
   "execution_count": 6,
   "metadata": {},
   "outputs": [
    {
     "data": {
      "text/plain": [
       "{'explicits': 'сегментация,segmentation'}"
      ]
     },
     "execution_count": 6,
     "metadata": {},
     "output_type": "execute_result"
    }
   ],
   "source": [
    "I.g.edges[\"28052020082348\", \"28052020224804\"]"
   ]
  },
  {
   "cell_type": "code",
   "execution_count": 13,
   "metadata": {},
   "outputs": [],
   "source": [
    "I.save(\"test.pkl\")"
   ]
  },
  {
   "cell_type": "code",
   "execution_count": 3,
   "metadata": {},
   "outputs": [],
   "source": [
    "I = CatIndex.load(\"test.pkl\")"
   ]
  }
 ],
 "metadata": {
  "kernelspec": {
   "display_name": "Python 3",
   "language": "python",
   "name": "python3"
  },
  "language_info": {
   "codemirror_mode": {
    "name": "ipython",
    "version": 3
   },
   "file_extension": ".py",
   "mimetype": "text/x-python",
   "name": "python",
   "nbconvert_exporter": "python",
   "pygments_lexer": "ipython3",
   "version": "3.7.5"
  }
 },
 "nbformat": 4,
 "nbformat_minor": 2
}
