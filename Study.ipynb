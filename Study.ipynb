{
 "cells": [
  {
   "cell_type": "code",
   "execution_count": 1,
   "metadata": {},
   "outputs": [],
   "source": [
    "import os\n",
    "import json\n",
    "import time\n",
    "import argparse\n",
    "import numpy as np\n",
    "from index import *\n",
    "import pandas as pd\n",
    "import pickle as pkl\n",
    "import os.path as op\n",
    "from tqdm import tqdm\n",
    "from datetime import datetime"
   ]
  },
  {
   "cell_type": "code",
   "execution_count": 2,
   "metadata": {},
   "outputs": [],
   "source": [
    "from leitner import *"
   ]
  },
  {
   "cell_type": "code",
   "execution_count": 3,
   "metadata": {},
   "outputs": [],
   "source": [
    "with open(\"/home/bakirillov/exocortex/box.pkl\", \"rb\") as ih:\n",
    "    lb = pkl.load(ih)"
   ]
  },
  {
   "cell_type": "code",
   "execution_count": 4,
   "metadata": {},
   "outputs": [],
   "source": [
    "lb.save(\"test.tsv\")"
   ]
  },
  {
   "cell_type": "code",
   "execution_count": 5,
   "metadata": {},
   "outputs": [],
   "source": [
    "from exocat import *"
   ]
  },
  {
   "cell_type": "code",
   "execution_count": 16,
   "metadata": {},
   "outputs": [],
   "source": [
    "class LeitnerBox():\n",
    "    \n",
    "    @classmethod\n",
    "    def empty(C):\n",
    "        pairs = {}\n",
    "        ignore = []\n",
    "        return(C(pairs, ignore))\n",
    "    \n",
    "    @staticmethod\n",
    "    def load(fn):\n",
    "        if op.splitext(fn)[-1] == \".pkl\":\n",
    "            with open(fn, \"rb\") as ih:\n",
    "                return(pkl.load(ih))\n",
    "        else:\n",
    "            c = LeitnerBox.empty()\n",
    "            with open(fn, \"r\") as oh:\n",
    "                for a in oh:\n",
    "                    line = a.split(\"\\t\")\n",
    "                    ans = line[1]\n",
    "                    n = int(line[2])\n",
    "                    time = datetime.fromtimestamp(int(line[3]))\n",
    "                    c.pairs[line[0]] = (ans, n, time)\n",
    "            return(c)\n",
    "        \n",
    "    def save(self, fn):\n",
    "        if op.splitext(fn)[-1] == \".pkl\":\n",
    "            with open(fn, \"wb\") as oh:\n",
    "                pkl.dump(self, oh)\n",
    "        else:\n",
    "            with open(fn, \"w\") as oh:\n",
    "                for a in self.pairs:\n",
    "                    line = a+\"\\t\"+self.pairs[a][0]+\"\\t\"+str(self.pairs[a][1])\n",
    "                    line += \"\\t\"+str(int(self.pairs[a][2].timestamp()))+\"\\n\"\n",
    "                    oh.write(line)\n",
    "    \n",
    "    @staticmethod\n",
    "    def schedule(level):\n",
    "        return(2**level)\n",
    "    \n",
    "    def __init__(self, pairs, ignore):\n",
    "        self.pairs = pairs\n",
    "        self.ignore = ignore\n",
    "        \n",
    "    @staticmethod\n",
    "    def get_questions(file_contents):\n",
    "        cs = [a.strip().lower() for a in file_contents.split(\"\\n\")]\n",
    "        title = cs[0]\n",
    "        try:\n",
    "            if \"## questions\" in cs:\n",
    "                qna = cs.index(\"## questions\")\n",
    "                cs = cs[qna+1:]\n",
    "                ai = cs.index(\"## answers\")\n",
    "                q_s = list(filter(lambda x: len(x) > 0, cs[:ai]))\n",
    "                a_s = list(filter(lambda x: len(x) > 0, cs[ai+1:]))\n",
    "            else:\n",
    "                return({})\n",
    "        except Exception as e:\n",
    "            return({})\n",
    "        else:\n",
    "            q2a = {q+\" FROM \"+title:a for q,a in zip(q_s, a_s)}\n",
    "            a2q = {a+\" FROM \"+title:q for q,a in zip(q_s, a_s)}\n",
    "            q2a.update(a2q)\n",
    "            return(q2a)\n",
    "                \n",
    "    def index(self, files):\n",
    "        for file in files:\n",
    "            with open(file, \"r\") as ih:\n",
    "                qa = LeitnerBox.get_questions(ih.read())\n",
    "                qa = {a: (qa[a], 0, datetime.now()) for a in qa}\n",
    "                intersecting_keys = set(self.pairs.keys()) & set(qa.keys())\n",
    "                noint_qa = {}\n",
    "                for a in qa:\n",
    "                    if a not in intersecting_keys:\n",
    "                        noint_qa[a] = qa[a]\n",
    "                self.pairs.update(noint_qa)\n",
    "                \n",
    "    def study_one(self, question):\n",
    "        level = self.pairs[question][1]\n",
    "        print(\"Your current level is \"+str(level))\n",
    "        a_hat = input(question+\"\\n\")\n",
    "        answer = self.pairs[question][0]\n",
    "        print(answer+\"\\n\")\n",
    "        tm = datetime.now()\n",
    "        while True:\n",
    "            correct = input(\"Is the answer correct? (Y,n)\\n\").lower()\n",
    "            if correct in [\"y\", \"n\"]:\n",
    "                if correct == \"y\":\n",
    "                    level += 1\n",
    "                else:\n",
    "                    level = 0\n",
    "                print(\"Your current level is \"+str(level))\n",
    "                break\n",
    "        return(answer, level, tm, a_hat)\n",
    "    \n",
    "    def today(self):\n",
    "        t = datetime.now()\n",
    "        suitable = {}\n",
    "        for question in self.pairs:\n",
    "            answer, lv, qt = self.pairs[question]\n",
    "            td = t-qt\n",
    "            # print(td.seconds//3600, lv, times)\n",
    "            if lv == 0:\n",
    "                suitable[question] = (answer, lv, qt)\n",
    "            else:\n",
    "                # print(td.days % 2**lv, 2**lv, td.days+1, qt)\n",
    "                if td.seconds//3600 > 10 and (td.days + 1) % 2**lv == 0:\n",
    "             #       print(td.days % 2**lv)\n",
    "                    suitable[question] = (answer, lv, qt)\n",
    "        return(suitable)\n",
    "    \n",
    "    def study(self, catch_up=False):\n",
    "        suitable = self.today()\n",
    "        keys = np.random.permutation(list(suitable.keys()))\n",
    "        if catch_up:\n",
    "            keys = keys[0:25]\n",
    "        print(str(len(keys))+\" questions to study today.\")\n",
    "        for i,k in enumerate(keys):\n",
    "            print(\"Question#\"+str(i+1))\n",
    "            out = self.study_one(k)\n",
    "            if out[3][0] == \"D\":\n",
    "                del self.pairs[k]\n",
    "            elif out[3][0] == \"I\":\n",
    "                self.ignore.append(k)\n",
    "            elif out[3][0] == \"A\":\n",
    "                self.pairs[k] = out[3][0][2:]\n",
    "            elif out[3][0] == \"Q\":\n",
    "                ans = self.pairs[k]\n",
    "                del self.pairs[k]\n",
    "                self.pairs[out[3][0][2:]] = ans\n",
    "            else:\n",
    "                self.pairs[k] = (out[0], out[1], out[2])\n",
    "        "
   ]
  },
  {
   "cell_type": "code",
   "execution_count": 17,
   "metadata": {},
   "outputs": [],
   "source": [
    "cat = ExoCat()"
   ]
  },
  {
   "cell_type": "code",
   "execution_count": 18,
   "metadata": {},
   "outputs": [],
   "source": [
    "cards = cat.cards()"
   ]
  },
  {
   "cell_type": "code",
   "execution_count": 19,
   "metadata": {},
   "outputs": [],
   "source": [
    "lb = LeitnerBox.empty()"
   ]
  },
  {
   "cell_type": "code",
   "execution_count": 20,
   "metadata": {},
   "outputs": [],
   "source": [
    "lb.index(cards)"
   ]
  }
 ],
 "metadata": {
  "kernelspec": {
   "display_name": "Python 3",
   "language": "python",
   "name": "python3"
  },
  "language_info": {
   "codemirror_mode": {
    "name": "ipython",
    "version": 3
   },
   "file_extension": ".py",
   "mimetype": "text/x-python",
   "name": "python",
   "nbconvert_exporter": "python",
   "pygments_lexer": "ipython3",
   "version": "3.7.5"
  }
 },
 "nbformat": 4,
 "nbformat_minor": 2
}
