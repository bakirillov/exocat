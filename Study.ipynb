{
 "cells": [
  {
   "cell_type": "code",
   "execution_count": 9,
   "metadata": {},
   "outputs": [],
   "source": [
    "import os\n",
    "import json\n",
    "import time\n",
    "import argparse\n",
    "import numpy as np\n",
    "from index import *\n",
    "import pandas as pd\n",
    "import pickle as pkl\n",
    "import os.path as op\n",
    "from tqdm import tqdm\n",
    "from datetime import datetime"
   ]
  },
  {
   "cell_type": "code",
   "execution_count": 10,
   "metadata": {},
   "outputs": [],
   "source": [
    "from leitner import *"
   ]
  },
  {
   "cell_type": "code",
   "execution_count": 11,
   "metadata": {},
   "outputs": [],
   "source": [
    "with open(\"/home/bakirillov/exocortex/box.pkl\", \"rb\") as ih:\n",
    "    lb = pkl.load(ih)"
   ]
  },
  {
   "cell_type": "code",
   "execution_count": 12,
   "metadata": {},
   "outputs": [
    {
     "data": {
      "text/plain": [
       "{'1. I': ('1. ego', 0, datetime.datetime(2020, 6, 8, 5, 42, 19, 621127)),\n",
       " '2. tu': ('2. you', 0, datetime.datetime(2020, 6, 8, 5, 42, 19, 621133)),\n",
       " '3. he': ('3. is', 0, datetime.datetime(2020, 6, 8, 5, 42, 19, 621134)),\n",
       " '4. she': ('4. ea', 0, datetime.datetime(2020, 6, 8, 5, 42, 19, 621134)),\n",
       " '5. it': ('5. id', 0, datetime.datetime(2020, 6, 8, 5, 42, 19, 621135)),\n",
       " '6. nos': ('6. we', 0, datetime.datetime(2020, 6, 8, 5, 42, 19, 621135)),\n",
       " '7. you (plural)': ('7. vos',\n",
       "  0,\n",
       "  datetime.datetime(2020, 6, 8, 5, 42, 19, 621136)),\n",
       " '8. here': ('8. hic', 0, datetime.datetime(2020, 6, 8, 5, 42, 19, 621137)),\n",
       " '1. Что такое гаплонедостаточность?': ('1. Ситуация, когда одной рабочей копии гена не хватает для получения нормального фенотипа.',\n",
       "  0,\n",
       "  datetime.datetime(2020, 6, 8, 5, 42, 19, 621183)),\n",
       " '2. Что такое миссенс-мутации?': ('2. Мутация, меняющая кодируемую аминокислоту.',\n",
       "  0,\n",
       "  datetime.datetime(2020, 6, 8, 5, 42, 19, 621185)),\n",
       " '1. puer': ('1. boy', 0, datetime.datetime(2020, 6, 8, 5, 42, 19, 621341)),\n",
       " '2. ship': ('2. n\\\\_a\\\\_vis',\n",
       "  0,\n",
       "  datetime.datetime(2020, 6, 8, 5, 42, 19, 621343)),\n",
       " '3. urbs': ('3. city', 0, datetime.datetime(2020, 6, 8, 5, 42, 19, 621343)),\n",
       " '4. day': ('4. di\\\\_e\\\\_s',\n",
       "  0,\n",
       "  datetime.datetime(2020, 6, 8, 5, 42, 19, 621344)),\n",
       " '5. family': ('5. g\\\\_e\\\\_ns',\n",
       "  0,\n",
       "  datetime.datetime(2020, 6, 8, 5, 42, 19, 621345)),\n",
       " '6. multit\\\\_u\\\\_d\\\\_o\\\\_': ('6. crowd',\n",
       "  0,\n",
       "  datetime.datetime(2020, 6, 8, 5, 42, 19, 621345)),\n",
       " '7. vidend\\\\_i\\\\_': ('7. seeing',\n",
       "  0,\n",
       "  datetime.datetime(2020, 6, 8, 5, 42, 19, 621346)),\n",
       " '8. to see': ('8. vid\\\\_e\\\\_re',\n",
       "  0,\n",
       "  datetime.datetime(2020, 6, 8, 5, 42, 19, 621346)),\n",
       " '9. writing': ('9. scr\\\\_i\\\\_bend\\\\_i\\\\_',\n",
       "  0,\n",
       "  datetime.datetime(2020, 6, 8, 5, 42, 19, 621347)),\n",
       " '10. scr\\\\_i\\\\_bere': ('10. to write',\n",
       "  0,\n",
       "  datetime.datetime(2020, 6, 8, 5, 42, 19, 621348)),\n",
       " '11. truth': ('11. v\\\\_e\\\\_rit\\\\_a\\\\_s',\n",
       "  0,\n",
       "  datetime.datetime(2020, 6, 8, 5, 42, 19, 621348)),\n",
       " '1. Сколько связей образуют гуанин и цитозин?': ('1. 3',\n",
       "  0,\n",
       "  datetime.datetime(2020, 6, 8, 5, 42, 19, 621443)),\n",
       " '2. Сколько связей образуют аденин и тимин?': ('2. 2',\n",
       "  0,\n",
       "  datetime.datetime(2020, 6, 8, 5, 42, 19, 621444)),\n",
       " '3. Нуклеиновая кислота состоит из азотистого основания, остатка фосфорной кислоты и \\\\_\\\\_\\\\_?': ('3. Пентозы',\n",
       "  0,\n",
       "  datetime.datetime(2020, 6, 8, 5, 42, 19, 621445)),\n",
       " '4. Нуклеиновая кислота состоит из пентозы, азотистого основания и \\\\_\\\\_\\\\_?': ('4. Остатка фосфорной кислоты',\n",
       "  0,\n",
       "  datetime.datetime(2020, 6, 8, 5, 42, 19, 621446)),\n",
       " '5. На какой по счету атом пентозы крепится остаток фосфорной кислоты?': (\"5. 5'\",\n",
       "  0,\n",
       "  datetime.datetime(2020, 6, 8, 5, 42, 19, 621446)),\n",
       " '6. На какой по счету атом пентозы крепится азотистое основание?': (\"6. 1'\",\n",
       "  0,\n",
       "  datetime.datetime(2020, 6, 8, 5, 42, 19, 621447)),\n",
       " '7. Засчет чего соединены между собой цепочки ДНК?': ('7. Водородная связь',\n",
       "  0,\n",
       "  datetime.datetime(2020, 6, 8, 5, 42, 19, 621447)),\n",
       " '8. Направление синтеза цепи?': (\"8. 5'->3'\",\n",
       "  0,\n",
       "  datetime.datetime(2020, 6, 8, 5, 42, 19, 621448)),\n",
       " '1. Что такое промотор?': ('1. Начальный участок считывания информации.',\n",
       "  0,\n",
       "  datetime.datetime(2020, 6, 8, 5, 42, 19, 621495)),\n",
       " '2. Как называется участок гена, который подавляет транскрипцию?': ('2. Сайленсер.',\n",
       "  0,\n",
       "  datetime.datetime(2020, 6, 8, 5, 42, 19, 621496)),\n",
       " '3. Что такое интроны?': ('3. Некодирующие последовательности в гене.',\n",
       "  0,\n",
       "  datetime.datetime(2020, 6, 8, 5, 42, 19, 621497)),\n",
       " '4. Что такое ген?': ('4. Функционально значимый участок, отвечающий за синтез одной активной молекулы РНК.',\n",
       "  0,\n",
       "  datetime.datetime(2020, 6, 8, 5, 42, 19, 621497)),\n",
       " '1. What is Gumbel-Max?': ('1. Z = onehot(argmax_i {G_i + log(p_i)})',\n",
       "  0,\n",
       "  datetime.datetime(2020, 6, 8, 5, 42, 19, 621530)),\n",
       " '2. What is differentiable alternative to argmax?': ('2. softmax',\n",
       "  0,\n",
       "  datetime.datetime(2020, 6, 8, 5, 42, 19, 621531))}"
      ]
     },
     "execution_count": 12,
     "metadata": {},
     "output_type": "execute_result"
    }
   ],
   "source": [
    "lb.pairs"
   ]
  },
  {
   "cell_type": "code",
   "execution_count": 4,
   "metadata": {},
   "outputs": [
    {
     "data": {
      "text/plain": [
       "0"
      ]
     },
     "execution_count": 4,
     "metadata": {},
     "output_type": "execute_result"
    }
   ],
   "source": [
    "(datetime.now()-lb.pairs['1. Что такое гаплонедостаточность?'][2]).seconds//3600"
   ]
  },
  {
   "cell_type": "code",
   "execution_count": 2,
   "metadata": {},
   "outputs": [],
   "source": [
    "from exocat import *"
   ]
  },
  {
   "cell_type": "code",
   "execution_count": 16,
   "metadata": {},
   "outputs": [],
   "source": [
    "class LeitnerBox():\n",
    "    \n",
    "    @classmethod\n",
    "    def empty(C):\n",
    "        pairs = {}\n",
    "        return(C(pairs))\n",
    "    \n",
    "    @staticmethod\n",
    "    def load(fn):\n",
    "        with open(fn, \"rb\") as ih:\n",
    "            return(pkl.load(ih))\n",
    "        \n",
    "    def save(self, fn):\n",
    "        with open(fn, \"wb\") as oh:\n",
    "            pkl.dump(self, oh)\n",
    "    \n",
    "    @staticmethod\n",
    "    def schedule(level):\n",
    "        return(2**level)\n",
    "    \n",
    "    def __init__(self, pairs):\n",
    "        self.pairs = pairs\n",
    "        \n",
    "    @staticmethod\n",
    "    def get_questions(file_contents):\n",
    "        cs = file_contents.split(\"\\n\")\n",
    "        if \"## Questions\" in cs:\n",
    "            qna = cs.index(\"## Questions\")\n",
    "            cs = cs[qna+1:]\n",
    "            ai = cs.index(\"## Answers\")\n",
    "            q_s = list(filter(lambda x: len(x) > 0, cs[:ai]))\n",
    "            a_s = list(filter(lambda x: len(x) > 0, cs[ai+1:]))\n",
    "            return({q:a for q,a in zip(q_s, a_s)})\n",
    "        else:\n",
    "            return({})\n",
    "        \n",
    "    def index(self, files):\n",
    "        for file in files:\n",
    "            with open(file, \"r\") as ih:\n",
    "                qa = LeitnerBox.get_questions(ih.read())\n",
    "                qa = {a: (qa[a], 0, datetime.now(), 0) for a in qa}\n",
    "                intersecting_keys = set(self.pairs.keys()) & set(qa.keys())\n",
    "                noint_qa = {}\n",
    "                for a in qa:\n",
    "                    if a not in intersecting_keys:\n",
    "                        noint_qa[a] = qa[a]\n",
    "                self.pairs.update(noint_qa)\n",
    "                \n",
    "    def study_one(self, question):\n",
    "        _ = input(question)\n",
    "        answer = self.pairs[question][0]\n",
    "        print(answer+\"\\n\")\n",
    "        level = 0\n",
    "        times = self.pairs[question][-1]\n",
    "        tm = datetime.now()\n",
    "        while True:\n",
    "            correct = input(\"Is the answer correct? (Y,n)\\n\")\n",
    "            if correct in [\"Y\", \"n\"]:\n",
    "                level += 1\n",
    "                break\n",
    "        return(answer, level, tm, times)\n",
    "    \n",
    "    def today(self):\n",
    "        t = datetime.now()\n",
    "        suitable = {}\n",
    "        for question in self.pairs:\n",
    "            answer, lv, qt, times = self.pairs[question]\n",
    "            td = t-qt\n",
    "            if td.days > 0:\n",
    "                self.pairs[question] = (answer, lv, qt, 0)\n",
    "            if td.days % 2**lv == 0:\n",
    "                if times == 0:\n",
    "                    suitable[question] = (answer, lv, qt, times)\n",
    "        return(suitable)\n",
    "    \n",
    "    def study(self):\n",
    "        suitable = self.today()\n",
    "        keys = np.random.permutation(list(suitable.keys()))\n",
    "        print(str(len(keys))+\" questions to study today.\")\n",
    "        for i,k in enumerate(keys):\n",
    "            print(\"Question#\"+str(i+1))\n",
    "            self.pairs[k] = self.study_one(k)"
   ]
  },
  {
   "cell_type": "code",
   "execution_count": 17,
   "metadata": {},
   "outputs": [],
   "source": [
    "cat = ExoCat()"
   ]
  },
  {
   "cell_type": "code",
   "execution_count": 18,
   "metadata": {},
   "outputs": [],
   "source": [
    "cards = cat.cards()"
   ]
  },
  {
   "cell_type": "code",
   "execution_count": 19,
   "metadata": {},
   "outputs": [],
   "source": [
    "lb = LeitnerBox.empty()"
   ]
  },
  {
   "cell_type": "code",
   "execution_count": 20,
   "metadata": {},
   "outputs": [],
   "source": [
    "lb.index(cards)"
   ]
  }
 ],
 "metadata": {
  "kernelspec": {
   "display_name": "Python 3",
   "language": "python",
   "name": "python3"
  },
  "language_info": {
   "codemirror_mode": {
    "name": "ipython",
    "version": 3
   },
   "file_extension": ".py",
   "mimetype": "text/x-python",
   "name": "python",
   "nbconvert_exporter": "python",
   "pygments_lexer": "ipython3",
   "version": "3.7.5"
  }
 },
 "nbformat": 4,
 "nbformat_minor": 2
}
