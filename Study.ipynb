{
 "cells": [
  {
   "cell_type": "code",
   "execution_count": 1,
   "metadata": {},
   "outputs": [],
   "source": [
    "import os\n",
    "import json\n",
    "import time\n",
    "import argparse\n",
    "import numpy as np\n",
    "from index import *\n",
    "import pandas as pd\n",
    "import pickle as pkl\n",
    "import os.path as op\n",
    "from tqdm import tqdm\n",
    "from datetime import datetime"
   ]
  },
  {
   "cell_type": "code",
   "execution_count": 2,
   "metadata": {},
   "outputs": [],
   "source": [
    "from exocat import *"
   ]
  },
  {
   "cell_type": "code",
   "execution_count": 16,
   "metadata": {},
   "outputs": [],
   "source": [
    "class LeitnerBox():\n",
    "    \n",
    "    @classmethod\n",
    "    def empty(C):\n",
    "        pairs = {}\n",
    "        return(C(pairs))\n",
    "    \n",
    "    @staticmethod\n",
    "    def load(fn):\n",
    "        with open(fn, \"rb\") as ih:\n",
    "            return(pkl.load(ih))\n",
    "        \n",
    "    def save(self, fn):\n",
    "        with open(fn, \"wb\") as oh:\n",
    "            pkl.dump(self, oh)\n",
    "    \n",
    "    @staticmethod\n",
    "    def schedule(level):\n",
    "        return(2**level)\n",
    "    \n",
    "    def __init__(self, pairs):\n",
    "        self.pairs = pairs\n",
    "        \n",
    "    @staticmethod\n",
    "    def get_questions(file_contents):\n",
    "        cs = file_contents.split(\"\\n\")\n",
    "        if \"## Questions\" in cs:\n",
    "            qna = cs.index(\"## Questions\")\n",
    "            cs = cs[qna+1:]\n",
    "            ai = cs.index(\"## Answers\")\n",
    "            q_s = list(filter(lambda x: len(x) > 0, cs[:ai]))\n",
    "            a_s = list(filter(lambda x: len(x) > 0, cs[ai+1:]))\n",
    "            return({q:a for q,a in zip(q_s, a_s)})\n",
    "        else:\n",
    "            return({})\n",
    "        \n",
    "    def index(self, files):\n",
    "        for file in files:\n",
    "            with open(file, \"r\") as ih:\n",
    "                qa = LeitnerBox.get_questions(ih.read())\n",
    "                qa = {a: (qa[a], 0, datetime.now()) for a in qa}\n",
    "                intersecting_keys = set(self.pairs.keys()) & set(qa.keys())\n",
    "                noint_qa = {}\n",
    "                for a in qa:\n",
    "                    if a not in intersecting_keys:\n",
    "                        noint_qa[a] = qa[a]\n",
    "                self.pairs.update(noint_qa)\n",
    "                \n",
    "    def study_one(self, question):\n",
    "        _ = input(question)\n",
    "        answer = self.pairs[question][0]\n",
    "        print(answer+\"\\n\")\n",
    "        level = 0\n",
    "        tm = datetime.now()\n",
    "        while True:\n",
    "            correct = input(\"Is the answer correct? (Y,n)\\n\")\n",
    "            if correct == \"Y\":\n",
    "                level += 1\n",
    "                break\n",
    "        return(answer, level, tm)\n",
    "    \n",
    "    def today(self):\n",
    "        t = datetime.now()\n",
    "        suitable = {}\n",
    "        for question in self.pairs:\n",
    "            answer, lv, qt = self.pairs[question]\n",
    "            td = t-qt\n",
    "            if td.days % 2**lv == 0:\n",
    "                suitable[question] = (answer, lv, qt)\n",
    "        return(suitable)\n",
    "    \n",
    "    def study(self):\n",
    "        suitable = self.today()\n",
    "        keys = np.random.permutation(list(suitable.keys()))\n",
    "        print(str(len(keys))+\" questions to study today.\")\n",
    "        for i,k in enumerate(keys):\n",
    "            print(\"Question#\"+str(i+1))\n",
    "            self.pairs[k] = self.study_one(k)"
   ]
  },
  {
   "cell_type": "code",
   "execution_count": 17,
   "metadata": {},
   "outputs": [],
   "source": [
    "cat = ExoCat()"
   ]
  },
  {
   "cell_type": "code",
   "execution_count": 18,
   "metadata": {},
   "outputs": [],
   "source": [
    "cards = cat.cards()"
   ]
  },
  {
   "cell_type": "code",
   "execution_count": 19,
   "metadata": {},
   "outputs": [],
   "source": [
    "lb = LeitnerBox.empty()"
   ]
  },
  {
   "cell_type": "code",
   "execution_count": 20,
   "metadata": {},
   "outputs": [],
   "source": [
    "lb.index(cards)"
   ]
  }
 ],
 "metadata": {
  "kernelspec": {
   "display_name": "Python 3",
   "language": "python",
   "name": "python3"
  },
  "language_info": {
   "codemirror_mode": {
    "name": "ipython",
    "version": 3
   },
   "file_extension": ".py",
   "mimetype": "text/x-python",
   "name": "python",
   "nbconvert_exporter": "python",
   "pygments_lexer": "ipython3",
   "version": "3.7.5"
  }
 },
 "nbformat": 4,
 "nbformat_minor": 2
}
